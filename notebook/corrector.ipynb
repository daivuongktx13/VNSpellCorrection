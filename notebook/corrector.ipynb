{
 "cells": [
  {
   "cell_type": "code",
   "execution_count": 1,
   "metadata": {},
   "outputs": [],
   "source": [
    "import sys\n",
    "sys.path.append(\"..\")"
   ]
  },
  {
   "cell_type": "code",
   "execution_count": 2,
   "metadata": {},
   "outputs": [
    {
     "name": "stderr",
     "output_type": "stream",
     "text": [
      "c:\\Users\\Admin\\anaconda3\\envs\\spell-corrector\\lib\\site-packages\\tqdm\\auto.py:22: TqdmWarning: IProgress not found. Please update jupyter and ipywidgets. See https://ipywidgets.readthedocs.io/en/stable/user_install.html\n",
      "  from .autonotebook import tqdm as notebook_tqdm\n"
     ]
    }
   ],
   "source": [
    "import os\n",
    "from params import *\n",
    "from dataset.vocab import Vocab\n",
    "from models.corrector import Corrector\n",
    "from models.model import ModelWrapper\n",
    "from models.util import load_weights\n",
    "import torch.nn.functional as F\n",
    "import torch\n",
    "import numpy as np"
   ]
  },
  {
   "cell_type": "code",
   "execution_count": 8,
   "metadata": {},
   "outputs": [],
   "source": [
    "model_name = \"tfmwtr\"\n",
    "dataset = \"binhvq\"\n",
    "vocab_path = f'../data/{dataset}/{dataset}.vocab.pkl'\n",
    "weight_path = f'../data/checkpoints/tfmwtr/{dataset}.weights.pth'"
   ]
  },
  {
   "cell_type": "code",
   "execution_count": 9,
   "metadata": {},
   "outputs": [],
   "source": [
    "vocab = Vocab(\"vi\")\n",
    "vocab.load_vocab_dict(vocab_path)"
   ]
  },
  {
   "cell_type": "code",
   "execution_count": 10,
   "metadata": {},
   "outputs": [
    {
     "name": "stderr",
     "output_type": "stream",
     "text": [
      "Special tokens have been added in the vocabulary, make sure the associated word embeddings are fine-tuned or trained.\n"
     ]
    },
    {
     "name": "stdout",
     "output_type": "stream",
     "text": [
      "Device: cpu\n",
      "Loaded model\n"
     ]
    }
   ],
   "source": [
    "model_wrapper = ModelWrapper(f\"{model_name}\", vocab)\n",
    "corrector = Corrector(model_wrapper)\n",
    "load_weights(corrector.model, weight_path)"
   ]
  },
  {
   "cell_type": "code",
   "execution_count": 23,
   "metadata": {},
   "outputs": [],
   "source": [
    "text = \"Akagi là một tàu sân bay curHảiquân De quoocs NhậtBảnhoạt động trong Chiến tran h Thế giớithứ hai , đượch đặt tên heo núi Akagi thuộctỉnh Hà Nội . Tàu được đ ặt lườn như một tàu chiến-tuần dương và thuộc l ớp Amagi , Akagi oược c ải biến thành tàu sân bay trương lú còn đang được chế tạo nhằm tuân thủ theo mhững điđu khoản của Hi ệp ướ c Hủi quân Washing ton.\""
   ]
  },
  {
   "cell_type": "code",
   "execution_count": 24,
   "metadata": {},
   "outputs": [
    {
     "name": "stdout",
     "output_type": "stream",
     "text": [
      "Original text: Akagi là một tàu sân bay curHảiquân De quoocs NhậtBảnhoạt động trong Chiến tran h Thế giớithứ hai , đượch đặt tên heo núi Akagi thuộctỉnh Hà Nội . Tàu được đ ặt lườn như một tàu chiến-tuần dương và thuộc l ớp Amagi , Akagi oược c ải biến thành tàu sân bay trương lú còn đang được chế tạo nhằm tuân thủ theo mhững điđu khoản của Hi ệp ướ c Hủi quân Washing ton.\n",
      "Predict text: Akagi là một tàu sân bay của Hải quân Đế quốc Nhật Bản hoạt động trong Chiến tranh Thế giới thứ hai , được đặt tên theo núi Akagi thuộc tỉnh Hà Nội . Tàu được đặt lên như một tàu chiến-tuần dương và thuộc lớp Amagi , Akagi được cải biến thành tàu sân bay trong lúc còn đang được chế tạo nhằm tuân thủ theo những điều khoản của Hiệp ước Hải quân Washington .\n",
      "Inference time: 2.7607929706573486\n"
     ]
    }
   ],
   "source": [
    "import time\n",
    "start = time.time()\n",
    "out = corrector.correct_transfomer_with_tr(text, num_beams=1)\n",
    "out\n",
    "print(f\"Original text: {text}\")\n",
    "print(f'Predict text: {\" \".join(out[\"predict_text\"])}')\n",
    "print(f\"Inference time: {time.time() - start}\")"
   ]
  }
 ],
 "metadata": {
  "kernelspec": {
   "display_name": "Python 3.9.15 ('spell-corrector')",
   "language": "python",
   "name": "python3"
  },
  "language_info": {
   "codemirror_mode": {
    "name": "ipython",
    "version": 3
   },
   "file_extension": ".py",
   "mimetype": "text/x-python",
   "name": "python",
   "nbconvert_exporter": "python",
   "pygments_lexer": "ipython3",
   "version": "3.9.15"
  },
  "orig_nbformat": 4,
  "vscode": {
   "interpreter": {
    "hash": "a0b43bab14ddab27624e50818cd625c2a9797dc6fe2da16297eeb216e6480760"
   }
  }
 },
 "nbformat": 4,
 "nbformat_minor": 2
}
