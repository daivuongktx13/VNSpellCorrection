{
 "cells": [
  {
   "cell_type": "code",
   "execution_count": 1,
   "metadata": {},
   "outputs": [],
   "source": [
    "import sys\n",
    "sys.path.append(\"..\")"
   ]
  },
  {
   "cell_type": "code",
   "execution_count": 2,
   "metadata": {},
   "outputs": [
    {
     "name": "stderr",
     "output_type": "stream",
     "text": [
      "c:\\Users\\Admin\\anaconda3\\envs\\spell-corrector\\lib\\site-packages\\tqdm\\auto.py:22: TqdmWarning: IProgress not found. Please update jupyter and ipywidgets. See https://ipywidgets.readthedocs.io/en/stable/user_install.html\n",
      "  from .autonotebook import tqdm as notebook_tqdm\n"
     ]
    }
   ],
   "source": [
    "import os\n",
    "from params import *\n",
    "from dataset.vocab import Vocab\n",
    "from models.corrector import Corrector\n",
    "from models.model import ModelWrapper\n",
    "from models.util import load_weights\n",
    "import torch.nn.functional as F\n",
    "import torch\n",
    "import numpy as np"
   ]
  },
  {
   "cell_type": "code",
   "execution_count": 3,
   "metadata": {},
   "outputs": [],
   "source": [
    "model_name = \"tfmwtr\"\n",
    "vocab_path = '../data/vi_wiki/vi_wiki.vocab.pkl'\n",
    "weight_path = f'../data/checkpoints/tfmwtr/vi_wiki.pytorch.weights.pth'"
   ]
  },
  {
   "cell_type": "code",
   "execution_count": 4,
   "metadata": {},
   "outputs": [],
   "source": [
    "vocab = Vocab(\"vi\")\n",
    "vocab.load_vocab_dict(vocab_path)"
   ]
  },
  {
   "cell_type": "code",
   "execution_count": 5,
   "metadata": {},
   "outputs": [
    {
     "name": "stderr",
     "output_type": "stream",
     "text": [
      "Special tokens have been added in the vocabulary, make sure the associated word embeddings are fine-tuned or trained.\n"
     ]
    },
    {
     "name": "stdout",
     "output_type": "stream",
     "text": [
      "Device: cpu\n",
      "Loaded model\n"
     ]
    }
   ],
   "source": [
    "model_wrapper = ModelWrapper(f\"{model_name}\", vocab)\n",
    "corrector = Corrector(model_wrapper)\n",
    "load_weights(corrector.model, weight_path)"
   ]
  },
  {
   "cell_type": "code",
   "execution_count": 25,
   "metadata": {},
   "outputs": [],
   "source": [
    "text = \"Giả i Grammy cho Bài hát rock hay nhí t là mọt giải thưởng âm nạc nằm trong hạng mcu giải thưởng của giải Grammy, một giảithưởng ra đờigvàonăm 1958 ban đầu có tên gọi là giải Gramophone, trao cho cácbàihát x uấ sáccủa nam thụcthểloạI nhạc rock.\""
   ]
  },
  {
   "cell_type": "code",
   "execution_count": 26,
   "metadata": {},
   "outputs": [
    {
     "name": "stdout",
     "output_type": "stream",
     "text": [
      "Original text: Giả i Grammy cho Bài hát rock hay nhí t là mọt giải thưởng âm nạc nằm trong hạng mcu giải thưởng của giải Grammy, một giảithưởng ra đờigvàonăm 1958 ban đầu có tên gọi là giải Gramophone, trao cho cácbàihát x uấ sáccủa nam thụcthểloạI nhạc rock.\n",
      "Predict text: Giải Grammy cho Bài hát rock hay nhất là một giải thưởng âm nhạc nằm trong hạng mục giải thưởng của giải Grammy , một giải thưởng ra đời vào năm 1958 ban đầu có tên gọi là giải Gramophone , trao cho các bài hát xuất sắc của năm thuộc thể loại nhạc rock .\n",
      "Inference time: 2.0194740295410156\n"
     ]
    }
   ],
   "source": [
    "import time\n",
    "start = time.time()\n",
    "out = corrector.correct_transfomer_with_tr(text, num_beams=1)\n",
    "out\n",
    "print(f\"Original text: {text}\")\n",
    "print(f'Predict text: {\" \".join(out[\"predict_text\"])}')\n",
    "print(f\"Inference time: {time.time() - start}\")"
   ]
  }
 ],
 "metadata": {
  "kernelspec": {
   "display_name": "Python 3.9.15 ('spell-corrector')",
   "language": "python",
   "name": "python3"
  },
  "language_info": {
   "codemirror_mode": {
    "name": "ipython",
    "version": 3
   },
   "file_extension": ".py",
   "mimetype": "text/x-python",
   "name": "python",
   "nbconvert_exporter": "python",
   "pygments_lexer": "ipython3",
   "version": "3.9.15"
  },
  "orig_nbformat": 4,
  "vscode": {
   "interpreter": {
    "hash": "a0b43bab14ddab27624e50818cd625c2a9797dc6fe2da16297eeb216e6480760"
   }
  }
 },
 "nbformat": 4,
 "nbformat_minor": 2
}
