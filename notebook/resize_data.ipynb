{
 "cells": [
  {
   "cell_type": "code",
   "execution_count": 1,
   "metadata": {},
   "outputs": [
    {
     "name": "stderr",
     "output_type": "stream",
     "text": [
      "100%|██████████| 5000/5000 [00:00<00:00, 416605.81it/s]\n",
      "100%|██████████| 5000/5000 [00:00<00:00, 312555.26it/s]\n"
     ]
    }
   ],
   "source": [
    "from tqdm import tqdm\n",
    "import re\n",
    "fo = open(\"../data/binhvq/corpus.txt\", \"w+\", encoding = \"utf-8\")\n",
    "with open(\"../data/binhvq/corpus-small.txt\", \"r\", encoding = \"utf-8\") as file:\n",
    "  data = [file.readline().strip(\"\\n\") for i in tqdm(range(5000))]\n",
    "  for line in tqdm(data):\n",
    "    fo.write(line + \"\\n\")\n",
    "fo.close()"
   ]
  }
 ],
 "metadata": {
  "kernelspec": {
   "display_name": "Python 3.9.5 ('spell-corrector')",
   "language": "python",
   "name": "python3"
  },
  "language_info": {
   "codemirror_mode": {
    "name": "ipython",
    "version": 3
   },
   "file_extension": ".py",
   "mimetype": "text/x-python",
   "name": "python",
   "nbconvert_exporter": "python",
   "pygments_lexer": "ipython3",
   "version": "3.9.15"
  },
  "orig_nbformat": 4,
  "vscode": {
   "interpreter": {
    "hash": "a0b43bab14ddab27624e50818cd625c2a9797dc6fe2da16297eeb216e6480760"
   }
  }
 },
 "nbformat": 4,
 "nbformat_minor": 2
}
