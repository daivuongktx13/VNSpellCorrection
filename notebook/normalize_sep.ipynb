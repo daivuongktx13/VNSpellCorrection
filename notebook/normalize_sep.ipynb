{
 "cells": [
  {
   "cell_type": "code",
   "execution_count": 1,
   "metadata": {},
   "outputs": [],
   "source": [
    "import re"
   ]
  },
  {
   "cell_type": "code",
   "execution_count": 281,
   "metadata": {},
   "outputs": [],
   "source": [
    "text = \"Akagi là một tàu sân bay của Hải quân Đế quốc 20 / 3 Nhật Bản hoạt động 24 % trong Chiến tranh Thế giới thứ hai , được đặt tên theo núi Akagi thuộc tỉnh Gunma .\""
   ]
  },
  {
   "cell_type": "code",
   "execution_count": 283,
   "metadata": {},
   "outputs": [
    {
     "data": {
      "text/plain": [
       "'Akagi là một tàu sân bay của Hải quân Đế quốc 20 / 3 Nhật Bản hoạt động 24 % trong Chiến tranh Thế giới thứ hai, được đặt tên theo núi Akagi thuộc tỉnh Gunma.'"
      ]
     },
     "execution_count": 283,
     "metadata": {},
     "output_type": "execute_result"
    }
   ],
   "source": [
    "t = re.sub(r\"\\s*([.,:?!;])\\s*\", r\"\\1\", text)\n",
    "t = re.sub(r\"([.,:?!;])(\\w)\", r\"\\1 \\2\", t)\n",
    "t = re.sub(r\"\\s([\\(])\\s\", r\" \\1\", t)\n",
    "t = re.sub(r\"\\s([\\)])\\s\", r\"\\1 \", t)\n",
    "t = re.sub(r\"([\\'\\\"])\\s(.*)\\s([\\'\\\"])\", r\"\\1\\2\\3\", t)\n",
    "t "
   ]
  }
 ],
 "metadata": {
  "kernelspec": {
   "display_name": "spell-corrector",
   "language": "python",
   "name": "python3"
  },
  "language_info": {
   "codemirror_mode": {
    "name": "ipython",
    "version": 3
   },
   "file_extension": ".py",
   "mimetype": "text/x-python",
   "name": "python",
   "nbconvert_exporter": "python",
   "pygments_lexer": "ipython3",
   "version": "3.9.15"
  },
  "orig_nbformat": 4,
  "vscode": {
   "interpreter": {
    "hash": "a0b43bab14ddab27624e50818cd625c2a9797dc6fe2da16297eeb216e6480760"
   }
  }
 },
 "nbformat": 4,
 "nbformat_minor": 2
}
