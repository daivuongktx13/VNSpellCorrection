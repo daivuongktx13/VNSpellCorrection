{
 "cells": [
  {
   "cell_type": "code",
   "execution_count": 1,
   "metadata": {},
   "outputs": [
    {
     "name": "stderr",
     "output_type": "stream",
     "text": [
      "[nltk_data] Downloading package punkt to\n",
      "[nltk_data]     C:\\Users\\Admin\\AppData\\Roaming\\nltk_data...\n",
      "[nltk_data]   Package punkt is already up-to-date!\n"
     ]
    }
   ],
   "source": [
    "import sys\n",
    "sys.path.append(\"..\")\n",
    "from dataset.vocab import Vocab\n",
    "from dataset.noise import SynthesizeData\n",
    "import re"
   ]
  },
  {
   "cell_type": "code",
   "execution_count": 2,
   "metadata": {},
   "outputs": [],
   "source": [
    "dataset = 'binhvq'\n",
    "dict_pickle_path = f'../data/{dataset}/{dataset}.vocab.pkl'\n",
    "vocab = Vocab()\n",
    "vocab.load_vocab_dict(dict_pickle_path)\n",
    "\n",
    "noiser = SynthesizeData(vocab)"
   ]
  },
  {
   "cell_type": "code",
   "execution_count": 10,
   "metadata": {},
   "outputs": [],
   "source": [
    "text = \"Akagi là một tàu sân bay của Hải quân Đế quốc Nhật Bản hoạt động trong Chiến tranh Thế giới thứ hai, được đặt tên theo núi Akagi thuộc tỉnh Gunma.\"\n",
    "text = \" \".join(re.findall(\"\\w+|[^\\w\\s]{1}\", text))"
   ]
  },
  {
   "cell_type": "code",
   "execution_count": 11,
   "metadata": {},
   "outputs": [
    {
     "name": "stdout",
     "output_type": "stream",
     "text": [
      "Akagi là mộtr táu sân bay kủa Hải quuân Đế quốcNhận Bản hoạ dong trong Chiến tranh Thế giới thứ hải , được dat tên theo núi Akagi thuộc tỉnh Gunma .\n"
     ]
    }
   ],
   "source": [
    "noised_text, onehot_label = noiser.add_split_merge_noise(text, percent_err=0.3, percent_normal_err=0.3)\n",
    "print(noised_text)"
   ]
  }
 ],
 "metadata": {
  "kernelspec": {
   "display_name": "Python 3.9.15 ('spell-corrector')",
   "language": "python",
   "name": "python3"
  },
  "language_info": {
   "codemirror_mode": {
    "name": "ipython",
    "version": 3
   },
   "file_extension": ".py",
   "mimetype": "text/x-python",
   "name": "python",
   "nbconvert_exporter": "python",
   "pygments_lexer": "ipython3",
   "version": "3.9.15"
  },
  "orig_nbformat": 4,
  "vscode": {
   "interpreter": {
    "hash": "a0b43bab14ddab27624e50818cd625c2a9797dc6fe2da16297eeb216e6480760"
   }
  }
 },
 "nbformat": 4,
 "nbformat_minor": 2
}
