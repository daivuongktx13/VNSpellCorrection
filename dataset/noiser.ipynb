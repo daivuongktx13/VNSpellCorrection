{
 "cells": [
  {
   "cell_type": "code",
   "execution_count": 3,
   "metadata": {},
   "outputs": [],
   "source": [
    "import sys\n",
    "sys.path.append(\"..\")\n",
    "from dataset.vocab import Vocab\n",
    "from dataset.noise import SynthesizeData"
   ]
  },
  {
   "cell_type": "code",
   "execution_count": 5,
   "metadata": {},
   "outputs": [],
   "source": [
    "dict_pickle_path = '../data/vi_wiki/vi_wiki.vocab.pkl'\n",
    "vocab = Vocab()\n",
    "vocab.load_vocab_dict(dict_pickle_path)\n",
    "\n",
    "noiser = SynthesizeData(vocab)"
   ]
  },
  {
   "cell_type": "code",
   "execution_count": 10,
   "metadata": {},
   "outputs": [
    {
     "name": "stdout",
     "output_type": "stream",
     "text": [
      "Giảo Grammy cho Bài hát rock hay nhí t là mọt giải thưởng âm nạc nằm trong hạng mcu giải thưởng của giải Grammy, một giảithưởng ra đờigvàonăm 1958 ban đầu có tên gọi là giải Gramophone, trao cho cácbàihát x uấ sáccủa nam thụcthểloạI nhạc rock.\n"
     ]
    }
   ],
   "source": [
    "text = \"Giải Grammy cho Bài hát rock hay nhất là một giải thưởng âm nhạc nằm trong hạng mục giải thưởng của giải Grammy, một giải thưởng ra đời vào năm 1958 ban đầu có tên gọi là giải Gramophone, trao cho các bài hát xuất sắc của năm thuộc thể loại nhạc rock.\"\n",
    "noised_text, onehot_label = noiser.add_split_merge_noise(text, percent_err=0.3, percent_normal_err=0.3)\n",
    "print(noised_text)"
   ]
  }
 ],
 "metadata": {
  "kernelspec": {
   "display_name": "Python 3.9.15 ('spell-corrector')",
   "language": "python",
   "name": "python3"
  },
  "language_info": {
   "codemirror_mode": {
    "name": "ipython",
    "version": 3
   },
   "file_extension": ".py",
   "mimetype": "text/x-python",
   "name": "python",
   "nbconvert_exporter": "python",
   "pygments_lexer": "ipython3",
   "version": "3.9.15"
  },
  "orig_nbformat": 4,
  "vscode": {
   "interpreter": {
    "hash": "a0b43bab14ddab27624e50818cd625c2a9797dc6fe2da16297eeb216e6480760"
   }
  }
 },
 "nbformat": 4,
 "nbformat_minor": 2
}
